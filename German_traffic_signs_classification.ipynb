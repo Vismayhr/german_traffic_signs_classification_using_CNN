{
 "cells": [
  {
   "cell_type": "markdown",
   "metadata": {},
   "source": [
    "## Learnings:\n",
    "   <li> The accuracy of the model was 3%! This was fixed by scaling the pixel values between 0-1.\n",
    "   <li> How to save and load models onto the disk (see the last cell)"
   ]
  },
  {
   "cell_type": "code",
   "execution_count": 1,
   "metadata": {
    "colab": {},
    "colab_type": "code",
    "id": "NlFsh98IzoZY"
   },
   "outputs": [
    {
     "name": "stderr",
     "output_type": "stream",
     "text": [
      "/home/vismay/Vismay/Softwares/Anaconda3/lib/python3.6/site-packages/h5py/__init__.py:36: FutureWarning: Conversion of the second argument of issubdtype from `float` to `np.floating` is deprecated. In future, it will be treated as `np.float64 == np.dtype(float).type`.\n",
      "  from ._conv import register_converters as _register_converters\n",
      "Using TensorFlow backend.\n"
     ]
    }
   ],
   "source": [
    "import pandas as pd\n",
    "import numpy as np\n",
    "import tensorflow as tf\n",
    "import matplotlib.pyplot as plt\n",
    "import cv2\n",
    "from sklearn.model_selection import train_test_split\n",
    "from keras.preprocessing.image import ImageDataGenerator\n",
    "import random\n",
    "\n",
    "import warnings\n",
    "warnings.filterwarnings('ignore')"
   ]
  },
  {
   "cell_type": "code",
   "execution_count": 2,
   "metadata": {
    "colab": {},
    "colab_type": "code",
    "id": "mAD_n0G31_8X"
   },
   "outputs": [
    {
     "name": "stdout",
     "output_type": "stream",
     "text": [
      "/home/vismay/Vismay/Learning/ML Stuff/Projects/German Road Signs/Dataset/German Traffic Signs/gtsrb-german-traffic-sign\n"
     ]
    }
   ],
   "source": [
    "dataset_path = \"./../Dataset/'German Traffic Signs'/gtsrb-german-traffic-sign/\"\n",
    "train_csv = \"Train.csv\"\n",
    "test_csv = \"Test.csv\"\n",
    "\n",
    "%cd $dataset_path\n",
    "train_dataset = pd.read_csv(train_csv)"
   ]
  },
  {
   "cell_type": "markdown",
   "metadata": {
    "colab_type": "text",
    "id": "XodaqGzW5A9t"
   },
   "source": [
    "### <center>Plotting the frequency distribution of the classes (i.e types of road signs) </center>"
   ]
  },
  {
   "cell_type": "code",
   "execution_count": 3,
   "metadata": {
    "colab": {
     "base_uri": "https://localhost:8080/",
     "height": 506
    },
    "colab_type": "code",
    "id": "Rcibq9X02Nxy",
    "outputId": "b9a5fb30-dba9-4afd-83b7-2077b3f2dd3a"
   },
   "outputs": [
    {
     "data": {
      "text/plain": [
       "Text(0,0.5,'Count')"
      ]
     },
     "execution_count": 3,
     "metadata": {},
     "output_type": "execute_result"
    },
    {
     "data": {
      "image/png": "[encoded data removed]",
      "text/plain": [
       "<Figure size 1440x576 with 1 Axes>"
      ]
     },
     "metadata": {},
     "output_type": "display_data"
    }
   ],
   "source": [
    "class_frequency = train_dataset['ClassId'].value_counts().sort_index()\n",
    "class_frequency.plot(kind='bar', legend=True, figsize=(20,8)).set_ylabel('Count')"
   ]
  },
  {
   "cell_type": "code",
   "execution_count": 4,
   "metadata": {
    "colab": {
     "base_uri": "https://localhost:8080/",
     "height": 68
    },
    "colab_type": "code",
    "id": "ygQ0WX8X4Et1",
    "outputId": "37424ff1-0052-4703-b21c-e11a94cd8b28"
   },
   "outputs": [
    {
     "data": {
      "text/plain": [
       "Index(['Width', 'Height', 'Roi.X1', 'Roi.Y1', 'Roi.X2', 'Roi.Y2', 'ClassId',\n",
       "       'Path'],\n",
       "      dtype='object')"
      ]
     },
     "execution_count": 4,
     "metadata": {},
     "output_type": "execute_result"
    }
   ],
   "source": [
    "train_dataset.columns"
   ]
  },
  {
   "cell_type": "code",
   "execution_count": 5,
   "metadata": {
    "colab": {
     "base_uri": "https://localhost:8080/",
     "height": 231
    },
    "colab_type": "code",
    "id": "KfvzQoRD8-uO",
    "outputId": "5e592f54-412c-4951-a322-47f67dfb6c5d"
   },
   "outputs": [],
   "source": [
    "# Load images from the dataset and then:\n",
    "#   1. Resize to 32x32 pixels\n",
    "#   2. Convert RGB to greyscale\n",
    "#   3. Use histogram equalization to improve the contrast of the image\n",
    "#   4. Scale the pixel values betwenn 0 to 1\n",
    "#   5. Store the corresponding labels\n",
    "\n",
    "train_images = []\n",
    "train_labels = []\n",
    "image_dim = (32,32)\n",
    "no_of_images = train_dataset['Path'].shape[0]\n",
    "\n",
    "for i in range(no_of_images):\n",
    "    try:\n",
    "        img = cv2.imread(train_dataset['Path'][i])\n",
    "        img_resized = cv2.resize(img, image_dim)\n",
    "        img_grayscale = cv2.cvtColor(img_resized, cv2.COLOR_BGR2GRAY)\n",
    "        img_hist_equalized = cv2.equalizeHist(img_grayscale)\n",
    "        img_scaled = img_hist_equalized/255.0\n",
    "        # AAARRRGGGHHHH train_images.append(img_hist_equalized)\n",
    "        train_images.append(img_scaled)\n",
    "        train_labels.append(train_dataset['ClassId'][i])\n",
    "    except Exception as e:\n",
    "        print('Index: ' + i + ' ' + str(e))\n",
    "        \n",
    "train_images = np.array(train_images)\n",
    "train_labels = np.array(train_labels)"
   ]
  },
  {
   "cell_type": "code",
   "execution_count": 6,
   "metadata": {
    "colab": {
     "base_uri": "https://localhost:8080/",
     "height": 51
    },
    "colab_type": "code",
    "id": "6hMPiPUvRy65",
    "outputId": "edc8494b-58ee-4e29-9b74-6ed4d0a25a71"
   },
   "outputs": [
    {
     "name": "stdout",
     "output_type": "stream",
     "text": [
      "Dimensions of the dataset: (39209, 32, 32), (39209,)\n",
      "The classes of images in the current dataset are [ 0  1  2  3  4  5  6  7  8  9 10 11 12 13 14 15 16 17 18 19 20 21 22 23\n",
      " 24 25 26 27 28 29 30 31 32 33 34 35 36 37 38 39 40 41 42]\n"
     ]
    }
   ],
   "source": [
    "print(f\"Dimensions of the dataset: {train_images.shape}, {train_labels.shape}\")\n",
    "print(f\"The classes of images in the current dataset are {np.unique(train_labels)}\")"
   ]
  },
  {
   "cell_type": "code",
   "execution_count": 7,
   "metadata": {
    "colab": {
     "base_uri": "https://localhost:8080/",
     "height": 68
    },
    "colab_type": "code",
    "id": "nJB7wHvHxY2z",
    "outputId": "97df37ae-597d-483e-dc07-7a0c0bc14b83"
   },
   "outputs": [
    {
     "name": "stdout",
     "output_type": "stream",
     "text": [
      "Class 1: Vertical flip - (2220, 32, 32)\n",
      "Assigning class 1\n",
      "Class 5: Vertical flip - (1860, 32, 32)\n",
      "Assigning class 5\n",
      "Class 11: Horizontal self flip - (1320, 32, 32)\n",
      "Assigning class 11\n",
      "Class 12: Horizontal self flip - (2100, 32, 32)\n",
      "Assigning class 12\n",
      "Class 12: Vertical flip - (2100, 32, 32)\n",
      "Assigning class 12\n",
      "Class 13: Horizontal self flip - (2160, 32, 32)\n",
      "Assigning class 13\n",
      "Class 15: Horizontal self flip - (630, 32, 32)\n",
      "Assigning class 15\n",
      "Class 15: Vertical flip - (630, 32, 32)\n",
      "Assigning class 15\n",
      "Class 17: Horizontal self flip - (1110, 32, 32)\n",
      "Assigning class 17\n",
      "Class 17: Vertical flip - (1110, 32, 32)\n",
      "Assigning class 17\n",
      "Class 18: Horizontal self flip - (1200, 32, 32)\n",
      "Assigning class 18\n",
      "Class 19: Horizontal cross flip - (210, 32, 32)\n",
      "Assigning class 20\n",
      "Class 20: Horizontal cross flip - (360, 32, 32)\n",
      "Assigning class 19\n",
      "Class 22: Horizontal self flip - (390, 32, 32)\n",
      "Assigning class 22\n",
      "Class 26: Horizontal self flip - (600, 32, 32)\n",
      "Assigning class 26\n",
      "Class 30: Horizontal self flip - (450, 32, 32)\n",
      "Assigning class 30\n",
      "Class 32: V & H flip - (240, 32, 32)\n",
      "Assigning class 32\n",
      "Class 33: Horizontal cross flip - (689, 32, 32)\n",
      "Assigning class 34\n",
      "Class 34: Horizontal cross flip - (420, 32, 32)\n",
      "Assigning class 33\n",
      "Class 35: Horizontal self flip - (1200, 32, 32)\n",
      "Assigning class 35\n",
      "Class 36: Horizontal cross flip - (390, 32, 32)\n",
      "Assigning class 37\n",
      "Class 37: Horizontal cross flip - (210, 32, 32)\n",
      "Assigning class 36\n",
      "Class 38: Horizontal cross flip - (2070, 32, 32)\n",
      "Assigning class 39\n",
      "Class 39: Horizontal cross flip - (300, 32, 32)\n",
      "Assigning class 38\n",
      "Class 40: V & H flip - (360, 32, 32)\n",
      "Assigning class 40\n",
      "Dimensions of flipped images: (24329, 32, 32) and labels: (24329,)\n"
     ]
    }
   ],
   "source": [
    "# By observing the various road signs in Meta, it can be observed that certain road signs can be flipped/\n",
    "# inverted or rotated to get other road signs, or the same road signs. This augmentation technique can be\n",
    "# used to balance the dataset, i.e add more samples for classes that have a small number of samples.\n",
    "\n",
    "def flip_images(images_to_flip, source_label, target_label, flip_orientation):\n",
    "    flipped_images = []\n",
    "    flipped_img_labels = []\n",
    "    for img in range(images_to_flip.shape[0]):\n",
    "        original_img = images_to_flip[img]\n",
    "        #print(f\"Type: {type(original_img)} and shape before flipping: {original_img.shape}\")\n",
    "        flipped_img = cv2.flip(original_img, flip_orientation)\n",
    "        #print(f\"Type: {type(flipped_img)} and shape after flipping: {flipped_img.shape}\")\n",
    "        flipped_images.append(flipped_img)\n",
    "        flipped_img_labels.append(target_label)\n",
    "    flipped_images = np.array(flipped_images)\n",
    "    flipped_img_labels = np.array(flipped_img_labels)\n",
    "    print(f\"Assigning class {target_label}\")\n",
    "    return {'flipped_images':flipped_images, 'labels':flipped_img_labels}\n",
    "\n",
    "# Road signs which, when flipped horizontally give the same sign. Example: class 11\n",
    "horizontally_self_flippable_signs = [11, 12, 13, 15, 17, 18, 22, 26, 30, 35]\n",
    "\n",
    "# Road signs which, when flipped vertically give the same sign. Example: Class 1\n",
    "vertically_self_flippable_signs = [1, 5, 12, 15, 17]\n",
    "\n",
    "# Road signs which, when flipped horizontally, then vertically give the same sign. Example: Class 32.\n",
    "self_flippable_both = [32, 40]\n",
    "\n",
    "# Road signs which, when flipped horizontally give another sign from the dataset. Example: Horizontally flipping class 33 gives class 34\n",
    "horizontally_cross_flippable_signs = np.array([[19, 20], [33, 34], [36, 37],  [38, 39], [20, 19],  [34, 33], [37, 36], [39, 38]])\n",
    "\n",
    "num_classes = 43\n",
    "h_flip_self = []\n",
    "v_flip = []\n",
    "both_flip = []\n",
    "h_flip_cross = []\n",
    "flipped_images = np.array([])\n",
    "flipped_img_labels = np.array([])\n",
    "\n",
    "for c in range(num_classes):\n",
    "    if c in np.unique(train_labels):\n",
    "        if c in horizontally_self_flippable_signs:\n",
    "            images_to_flip = train_images[train_labels==c]\n",
    "            print(f\"Class {c}: Horizontal self flip - {images_to_flip.shape}\")\n",
    "            h_flip_self = flip_images(images_to_flip, c, c, 1)\n",
    "            if flipped_images.size == 0:\n",
    "                flipped_images = h_flip_self['flipped_images']\n",
    "                flipped_img_labels = h_flip_self['labels']\n",
    "            else:\n",
    "                flipped_images = np.append(flipped_images, h_flip_self['flipped_images'], axis=0)\n",
    "                flipped_img_labels = np.append(flipped_img_labels, h_flip_self['labels'], axis=0)\n",
    "        \n",
    "        if c in vertically_self_flippable_signs:\n",
    "            images_to_flip = train_images[train_labels==c]\n",
    "            print(f\"Class {c}: Vertical flip - {images_to_flip.shape}\")\n",
    "            v_flip = flip_images(images_to_flip, c, c, 0)\n",
    "            if flipped_images.size == 0:\n",
    "                flipped_images = v_flip['flipped_images']\n",
    "                flipped_img_labels = v_flip['labels']\n",
    "            else:\n",
    "                flipped_images = np.append(flipped_images, v_flip['flipped_images'], axis=0)\n",
    "                flipped_img_labels = np.append(flipped_img_labels, v_flip['labels'], axis=0)\n",
    "            \n",
    "        if c in self_flippable_both:\n",
    "            images_to_flip = train_images[train_labels==c]\n",
    "            print(f\"Class {c}: V & H flip - {images_to_flip.shape}\")\n",
    "            both_flip = flip_images(images_to_flip, c, c, -1)\n",
    "            if flipped_images.size == 0:\n",
    "                flipped_images = both_flip['flipped_images']\n",
    "                flipped_img_labels = both_flip['labels']\n",
    "            else:\n",
    "                flipped_images = np.append(flipped_images, both_flip['flipped_images'], axis=0)\n",
    "                flipped_img_labels = np.append(flipped_img_labels, both_flip['labels'], axis=0)\n",
    "                    \n",
    "        if c in horizontally_cross_flippable_signs[:,0]:\n",
    "            source_label = c\n",
    "            target_label_index = np.where(horizontally_cross_flippable_signs[:,0]==c)[0][0]\n",
    "            target_label = horizontally_cross_flippable_signs[target_label_index][1]\n",
    "            images_to_flip = train_images[train_labels==c]\n",
    "            print(f\"Class {c}: Horizontal cross flip - {images_to_flip.shape}\")\n",
    "            h_flip_cross = flip_images(images_to_flip, source_label, target_label, 1)\n",
    "            if flipped_images.size == 0:\n",
    "                flipped_images = h_flip_cross['flipped_images']\n",
    "                flipped_img_labels = h_flip_cross['labels']\n",
    "            else:\n",
    "                flipped_images = np.append(flipped_images, h_flip_cross['flipped_images'], axis=0)\n",
    "                flipped_img_labels = np.append(flipped_img_labels, h_flip_cross['labels'], axis=0)\n",
    "print(f\"Dimensions of flipped images: {flipped_images.shape} and labels: {flipped_img_labels.shape}\")                "
   ]
  },
  {
   "cell_type": "code",
   "execution_count": 8,
   "metadata": {
    "colab": {
     "base_uri": "https://localhost:8080/",
     "height": 51
    },
    "colab_type": "code",
    "id": "lUhC-eet2ipx",
    "outputId": "b1913c09-0eee-4a87-c8a8-40e82edbf476"
   },
   "outputs": [
    {
     "name": "stdout",
     "output_type": "stream",
     "text": [
      "Dimensions of the dataset before adding flipped images: (39209, 32, 32) and labels: (39209,)\n",
      "Dimensions of the dataset after adding flipped images: (63538, 32, 32) and labels: (63538,)\n"
     ]
    }
   ],
   "source": [
    "print(f\"Dimensions of the dataset before adding flipped images: {train_images.shape} and labels: {train_labels.shape}\")\n",
    "\n",
    "# Append the flipped images to the original dataset\n",
    "train_images = np.append(train_images, flipped_images, axis=0)\n",
    "train_labels = np.append(train_labels, flipped_img_labels, axis=0)\n",
    "print(f\"Dimensions of the dataset after adding flipped images: {train_images.shape} and labels: {train_labels.shape}\")"
   ]
  },
  {
   "cell_type": "code",
   "execution_count": 9,
   "metadata": {},
   "outputs": [
    {
     "data": {
      "text/plain": [
       "'num_class = 43\\nbalanced_data = []\\nbalanced_labels = []\\nfor c in range(num_classes):\\n    class_c_signs = np.where(train_labels==c)[0]\\n    sample_count = 200\\n    indices = random.sample(range(0, len(class_c_signs)), sample_count)\\n    for i in range(sample_count):\\n        balanced_data.append(train_images[class_c_signs[i]])\\n        balanced_labels.append(c)\\n\\nbalanced_data = np.array(balanced_data)\\nbalanced_labels = np.array(balanced_labels)'"
      ]
     },
     "execution_count": 9,
     "metadata": {},
     "output_type": "execute_result"
    }
   ],
   "source": [
    "# Creating a balanced dataset\n",
    "\"\"\"num_class = 43\n",
    "balanced_data = []\n",
    "balanced_labels = []\n",
    "for c in range(num_classes):\n",
    "    class_c_signs = np.where(train_labels==c)[0]\n",
    "    sample_count = 200\n",
    "    indices = random.sample(range(0, len(class_c_signs)), sample_count)\n",
    "    for i in range(sample_count):\n",
    "        balanced_data.append(train_images[class_c_signs[i]])\n",
    "        balanced_labels.append(c)\n",
    "\n",
    "balanced_data = np.array(balanced_data)\n",
    "balanced_labels = np.array(balanced_labels)\"\"\""
   ]
  },
  {
   "cell_type": "code",
   "execution_count": 10,
   "metadata": {},
   "outputs": [],
   "source": [
    "cv2.imshow('image',train_images[385])\n",
    "cv2.waitKey(0)\n",
    "cv2.destroyAllWindows()"
   ]
  },
  {
   "cell_type": "code",
   "execution_count": 11,
   "metadata": {
    "colab": {},
    "colab_type": "code",
    "id": "QUO09myYuUDO"
   },
   "outputs": [],
   "source": [
    "# Apply additional transformations such as image translation and shearing.\n",
    "# Randomly choose 10% of the images from each class and apply the transformations.\n",
    "\n",
    "# Will be done later"
   ]
  },
  {
   "cell_type": "code",
   "execution_count": 12,
   "metadata": {
    "colab": {},
    "colab_type": "code",
    "id": "9HzpP8Mp3qG1"
   },
   "outputs": [],
   "source": [
    "# One-hot-encode the image labels\n",
    "number_of_classes = 43\n",
    "train_labels = np.eye(43)[train_labels]\n"
   ]
  },
  {
   "cell_type": "code",
   "execution_count": 13,
   "metadata": {
    "colab": {
     "base_uri": "https://localhost:8080/",
     "height": 51
    },
    "colab_type": "code",
    "id": "nQzeb1nhPKHO",
    "outputId": "c39d18a4-ae5d-4244-ef3a-db8ae78632c9"
   },
   "outputs": [
    {
     "name": "stdout",
     "output_type": "stream",
     "text": [
      "Dimensions of training data and labels: (50830, 32, 32) (50830, 43)\n",
      "Dimensions of validation data and labels: (12708, 32, 32) (12708, 43)\n"
     ]
    },
    {
     "data": {
      "text/plain": [
       "'bal_X_train, bal_X_val, bal_y_train, bal_y_val = train_test_split(balanced_data, balanced_labels, test_size=0.20)\\nprint(f\"Dimensions of training data and labels: {bal_X_train.shape} {bal_y_train.shape}\")\\nprint(f\"Dimensions of validation data and labels: {bal_X_val.shape} {bal_y_val.shape}\")'"
      ]
     },
     "execution_count": 13,
     "metadata": {},
     "output_type": "execute_result"
    }
   ],
   "source": [
    "# Use train_test_split() to create a hold out validation dataset\n",
    "X_train, X_val, y_train, y_val = train_test_split(train_images, train_labels, test_size=0.20)\n",
    "print(f\"Dimensions of training data and labels: {X_train.shape} {y_train.shape}\")\n",
    "print(f\"Dimensions of validation data and labels: {X_val.shape} {y_val.shape}\")\n",
    "\n",
    "\n",
    "\n",
    "\"\"\"bal_X_train, bal_X_val, bal_y_train, bal_y_val = train_test_split(balanced_data, balanced_labels, test_size=0.20)\n",
    "print(f\"Dimensions of training data and labels: {bal_X_train.shape} {bal_y_train.shape}\")\n",
    "print(f\"Dimensions of validation data and labels: {bal_X_val.shape} {bal_y_val.shape}\")\"\"\""
   ]
  },
  {
   "cell_type": "code",
   "execution_count": 14,
   "metadata": {
    "colab": {},
    "colab_type": "code",
    "id": "7PKZHRgf4d8r"
   },
   "outputs": [],
   "source": [
    "# Reshape the data to make it compatible with the input_shape of the CNN\n",
    "X_train = np.reshape(X_train, (X_train.shape[0], X_train.shape[1], X_train.shape[2], 1))\n",
    "X_val = np.reshape(X_val, (X_val.shape[0], X_val.shape[1], X_val.shape[2], 1))"
   ]
  },
  {
   "cell_type": "code",
   "execution_count": 15,
   "metadata": {
    "colab": {
     "base_uri": "https://localhost:8080/",
     "height": 442
    },
    "colab_type": "code",
    "id": "SEg2MmzbCPyN",
    "outputId": "0eca36b3-2a79-4504-a76a-fe711f53ed17"
   },
   "outputs": [
    {
     "name": "stdout",
     "output_type": "stream",
     "text": [
      "_________________________________________________________________\n",
      "Layer (type)                 Output Shape              Param #   \n",
      "=================================================================\n",
      "conv2d_1 (Conv2D)            (None, 32, 32, 32)        832       \n",
      "_________________________________________________________________\n",
      "max_pooling2d_1 (MaxPooling2 (None, 16, 16, 32)        0         \n",
      "_________________________________________________________________\n",
      "conv2d_2 (Conv2D)            (None, 16, 16, 64)        51264     \n",
      "_________________________________________________________________\n",
      "max_pooling2d_2 (MaxPooling2 (None, 8, 8, 64)          0         \n",
      "_________________________________________________________________\n",
      "conv2d_3 (Conv2D)            (None, 8, 8, 128)         204928    \n",
      "_________________________________________________________________\n",
      "max_pooling2d_3 (MaxPooling2 (None, 4, 4, 128)         0         \n",
      "_________________________________________________________________\n",
      "flatten_1 (Flatten)          (None, 2048)              0         \n",
      "_________________________________________________________________\n",
      "dense_1 (Dense)              (None, 1024)              2098176   \n",
      "_________________________________________________________________\n",
      "dense_2 (Dense)              (None, 43)                44075     \n",
      "=================================================================\n",
      "Total params: 2,399,275\n",
      "Trainable params: 2,399,275\n",
      "Non-trainable params: 0\n",
      "_________________________________________________________________\n"
     ]
    }
   ],
   "source": [
    "# The architecture of the CNN is as described in: http://yann.lecun.com/exdb/publis/pdf/sermanet-ijcnn-11.pdf\n",
    "\n",
    "\n",
    "# Build the CNN model\n",
    "from keras.models import Sequential\n",
    "from keras.layers import Conv2D, MaxPool2D, Dense, Flatten, Dropout\n",
    "\n",
    "# Conv layer 1\n",
    "conv_model = Sequential()\n",
    "conv_model.add(Conv2D(32, kernel_size=5, input_shape=(32,32,1), padding='same', activation='relu'))\n",
    "conv_model.add(MaxPool2D((2,2)))\n",
    "#conv_model.add(Dropout(0.1))\n",
    "\n",
    "# Conv layer 2\n",
    "conv_model.add(Conv2D(64, kernel_size=5, padding='same', activation='relu'))\n",
    "conv_model.add(MaxPool2D(2,2))\n",
    "#conv_model.add(Dropout(0.2))\n",
    "\n",
    "# Conv layer 3\n",
    "conv_model.add(Conv2D(128, kernel_size=5, padding='same', activation='relu'))\n",
    "conv_model.add(MaxPool2D(2,2))\n",
    "#conv_model.add(Dropout(0.3))\n",
    "\n",
    "# Flatten\n",
    "conv_model.add(Flatten())\n",
    "#conv_model.add(Dropout(0.5))\n",
    "\n",
    "# Fully connected layer 1:\n",
    "conv_model.add(Dense(1024, activation='relu'))\n",
    "\n",
    "# Output layer\n",
    "conv_model.add(Dense(43, activation='softmax'))\n",
    "\n",
    "conv_model.summary()"
   ]
  },
  {
   "cell_type": "code",
   "execution_count": 19,
   "metadata": {
    "colab": {
     "base_uri": "https://localhost:8080/",
     "height": 1000
    },
    "colab_type": "code",
    "id": "A6xj724RUiU9",
    "outputId": "dfa89569-9306-467e-9429-226988d5a5b8"
   },
   "outputs": [
    {
     "name": "stdout",
     "output_type": "stream",
     "text": [
      "Train on 50830 samples, validate on 12708 samples\n",
      "Epoch 1/5\n",
      "50830/50830 [==============================] - 288s 6ms/step - loss: 0.2151 - acc: 0.9324 - val_loss: 0.1175 - val_acc: 0.9644\n",
      "Epoch 2/5\n",
      "50830/50830 [==============================] - 289s 6ms/step - loss: 0.0820 - acc: 0.9737 - val_loss: 0.1114 - val_acc: 0.9667\n",
      "Epoch 3/5\n",
      "50830/50830 [==============================] - 289s 6ms/step - loss: 0.0535 - acc: 0.9834 - val_loss: 0.0607 - val_acc: 0.9840\n",
      "Epoch 4/5\n",
      "50830/50830 [==============================] - 307s 6ms/step - loss: 0.0478 - acc: 0.9852 - val_loss: 0.0869 - val_acc: 0.9786\n",
      "Epoch 5/5\n",
      "50830/50830 [==============================] - 287s 6ms/step - loss: 0.0398 - acc: 0.9881 - val_loss: 0.0992 - val_acc: 0.9754\n"
     ]
    },
    {
     "data": {
      "text/plain": [
       "<keras.callbacks.History at 0x7f780832a710>"
      ]
     },
     "execution_count": 19,
     "metadata": {},
     "output_type": "execute_result"
    }
   ],
   "source": [
    "# Train the CNN\n",
    "\n",
    "conv_model.compile(optimizer='adam', loss='categorical_crossentropy', metrics=['accuracy'])\n",
    "\n",
    "conv_model.fit(X_train, y_train, validation_data=(X_val, y_val), epochs=5)\n"
   ]
  },
  {
   "cell_type": "code",
   "execution_count": 20,
   "metadata": {},
   "outputs": [
    {
     "name": "stdout",
     "output_type": "stream",
     "text": [
      "Requirement already satisfied: h5py in /home/vismay/Vismay/Softwares/Anaconda3/lib/python3.6/site-packages (2.7.1)\n",
      "Requirement already satisfied: numpy>=1.7 in /home/vismay/Vismay/Softwares/Anaconda3/lib/python3.6/site-packages (from h5py) (1.14.3)\n",
      "Requirement already satisfied: six in /home/vismay/Vismay/Softwares/Anaconda3/lib/python3.6/site-packages (from h5py) (1.11.0)\n",
      "\u001b[33mYou are using pip version 19.0.3, however version 19.1.1 is available.\n",
      "You should consider upgrading via the 'pip install --upgrade pip' command.\u001b[0m\n"
     ]
    }
   ],
   "source": [
    "!pip install h5py"
   ]
  },
  {
   "cell_type": "code",
   "execution_count": 21,
   "metadata": {},
   "outputs": [
    {
     "name": "stdout",
     "output_type": "stream",
     "text": [
      "Saved model to disk\n"
     ]
    }
   ],
   "source": [
    "# How to save and load models to disk: https://machinelearningmastery.com/save-load-keras-deep-learning-models/\n",
    "\n",
    "# serialize model to JSON\n",
    "model_json = conv_model.to_json()\n",
    "with open(\"model.json\", \"w\") as json_file:\n",
    "    json_file.write(model_json)\n",
    "# serialize weights to HDF5\n",
    "conv_model.save_weights(\"model.h5\")\n",
    "print(\"Saved model to disk\")"
   ]
  },
  {
   "cell_type": "code",
   "execution_count": null,
   "metadata": {},
   "outputs": [],
   "source": []
  }
 ],
 "metadata": {
  "accelerator": "GPU",
  "colab": {
   "collapsed_sections": [],
   "name": "Traffic_signs_classification.ipynb",
   "provenance": [],
   "version": "0.3.2"
  },
  "kernelspec": {
   "display_name": "Python 3",
   "language": "python",
   "name": "python3"
  },
  "language_info": {
   "codemirror_mode": {
    "name": "ipython",
    "version": 3
   },
   "file_extension": ".py",
   "mimetype": "text/x-python",
   "name": "python",
   "nbconvert_exporter": "python",
   "pygments_lexer": "ipython3",
   "version": "3.7.3"
  }
 },
 "nbformat": 4,
 "nbformat_minor": 1
}
